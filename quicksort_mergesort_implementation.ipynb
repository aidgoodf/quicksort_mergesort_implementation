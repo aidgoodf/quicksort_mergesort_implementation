{
 "cells": [
  {
   "cell_type": "markdown",
   "id": "7ae5b60b",
   "metadata": {},
   "source": [
    "\n",
    "\n",
    "# Aidan Goodfellow"
   ]
  },
  {
   "cell_type": "markdown",
   "id": "82ed54f7",
   "metadata": {},
   "source": [
    "\n",
    "### Define a function called det_qs, which implements the deterministic quick sort algorithm."
   ]
  },
  {
   "cell_type": "code",
   "execution_count": 1,
   "id": "35510a72",
   "metadata": {},
   "outputs": [],
   "source": [
    "# Aidan Goodfellow\n",
    "\n",
    "import unittest\n",
    "\n",
    "\n",
    "def det_qs(arr):\n",
    "    if len(arr) <= 1:\n",
    "        return arr\n",
    "    else:\n",
    "        pivot = arr[0]\n",
    "        less_than_pivot = [x for x in arr[1:] if x <= pivot]\n",
    "        greater_than_pivot = [x for x in arr[1:] if x > pivot]\n",
    "        return det_qs(less_than_pivot) + [pivot] + det_qs(greater_than_pivot)\n"
   ]
  },
  {
   "cell_type": "markdown",
   "id": "c1b0b8fb",
   "metadata": {},
   "source": [
    "\n",
    "### Define a function called random_qs, which implements the randomized quick sort algorithm."
   ]
  },
  {
   "cell_type": "code",
   "execution_count": 2,
   "id": "d8e1c60a",
   "metadata": {},
   "outputs": [],
   "source": [
    "import random\n",
    "\n",
    "def random_qs(arr):\n",
    "    if len(arr) <= 1:\n",
    "        return arr\n",
    "    else:\n",
    "        # Randomly select a pivot\n",
    "        pivot_index = random.randint(0, len(arr) - 1)\n",
    "        pivot = arr[pivot_index]\n",
    "\n",
    "        # Partition the array around the pivot\n",
    "        less_than_pivot = [x for x in arr if x < pivot]\n",
    "        equals_pivot = [x for x in arr if x == pivot]\n",
    "        greater_than_pivot = [x for x in arr if x > pivot]\n",
    "\n",
    "        return random_qs(less_than_pivot) + equals_pivot + random_qs(greater_than_pivot)\n"
   ]
  },
  {
   "cell_type": "markdown",
   "id": "4dd2f2cc",
   "metadata": {},
   "source": [
    "\n",
    "### Define a function called merge_sort, which implements the merge sort algorithm."
   ]
  },
  {
   "cell_type": "code",
   "execution_count": 3,
   "id": "7396815d",
   "metadata": {},
   "outputs": [],
   "source": [
    "def merge_sort(arr):\n",
    "    # Base case\n",
    "    if len(arr) <= 1:\n",
    "        return arr\n",
    "\n",
    "    # Split the array\n",
    "    mid = len(arr) // 2\n",
    "    left_half = arr[:mid]\n",
    "    right_half = arr[mid:]\n",
    "\n",
    "    # sort both halves\n",
    "    left_sorted = merge_sort(left_half)\n",
    "    right_sorted = merge_sort(right_half)\n",
    "\n",
    "    # Merge the sorted halves\n",
    "    return merge(left_sorted, right_sorted)\n",
    "\n",
    "def merge(left, right):\n",
    "    merged = []\n",
    "    left_index, right_index = 0, 0\n",
    "\n",
    "    # Traverse both left and right arrays\n",
    "    while left_index < len(left) and right_index < len(right):\n",
    "        if left[left_index] < right[right_index]:\n",
    "            merged.append(left[left_index])\n",
    "            left_index += 1\n",
    "        else:\n",
    "            merged.append(right[right_index])\n",
    "            right_index += 1\n",
    "\n",
    "    # If there are remaining elements in the left array, add them to merged\n",
    "    while left_index < len(left):\n",
    "        merged.append(left[left_index])\n",
    "        left_index += 1\n",
    "\n",
    "    # If there are remaining elements in the right array, add them to merged\n",
    "    while right_index < len(right):\n",
    "        merged.append(right[right_index])\n",
    "        right_index += 1\n",
    "\n",
    "    return merged\n"
   ]
  },
  {
   "cell_type": "markdown",
   "id": "28cb16d6",
   "metadata": {},
   "source": [
    "\n",
    "### Benchmark the three functions defined above, i.e. time you function execution with inputs of different size. Draw a plot with x-axis being the size of input and y-axis being the time your functions take to finish given that input. The plot should contains six lines that corresponds to benchmarks of the three functions on two types of inputs."
   ]
  },
  {
   "cell_type": "code",
   "execution_count": 4,
   "id": "3e2c79c6",
   "metadata": {},
   "outputs": [
    {
     "data": {
      "image/png": "[encoded data removed]",
      "text/plain": [
       "<Figure size 432x288 with 1 Axes>"
      ]
     },
     "metadata": {
      "needs_background": "light"
     },
     "output_type": "display_data"
    }
   ],
   "source": [
    "import random\n",
    "import time\n",
    "import matplotlib.pyplot as plt\n",
    "\n",
    "# function tracking run-time\n",
    "def time_sorting_function(func, arr):\n",
    "    start_time = time.time()\n",
    "    func(arr)\n",
    "    return time.time() - start_time\n",
    "\n",
    "def generate_random_array(n):\n",
    "    return [random.randint(1, n) for _ in range(n)]\n",
    "\n",
    "#generates a sorted array and switch the first element with second last\n",
    "def generate_almost_sorted(n):\n",
    "    arr = [x for x in range(n)]\n",
    "    temp = 0\n",
    "    temp = arr[0]\n",
    "    arr[0] = arr[n-2]\n",
    "    arr[n-2] = temp\n",
    "    return arr\n",
    "\n",
    "# save the sizes, functions, and labels in arrays so they can be accessed more easily\n",
    "sizes = [100, 1000, 2000]\n",
    "functions = [det_qs, random_qs, merge_sort]\n",
    "labels = [\"det_qs\", \"random_qs\", \"merge_sort\"]\n",
    "\n",
    "for func, label in zip(functions, labels):\n",
    "    # empty list to track runtime\n",
    "    times_list = []\n",
    "    run_times_almost_sorted = []\n",
    "    for size in sizes:\n",
    "        random_array = generate_random_array(size)\n",
    "        almost_sorted_array = generate_almost_sorted(size)\n",
    "        \n",
    "        run_time = time_sorting_function(func, random_array)\n",
    "        run_time_almost_sorted = time_sorting_function(func, almost_sorted_array)\n",
    "        \n",
    "        times_list.append(run_time)\n",
    "        run_times_almost_sorted.append(run_time_almost_sorted)\n",
    "    \n",
    "    plt.plot(sizes, times_list, label=f\"{label}\")\n",
    "    plt.plot(sizes, run_times_almost_sorted, label=f\"{label} (almost sorted)\")\n",
    "\n",
    "plt.xlabel('Input Size')\n",
    "plt.xlim([100, 2000])\n",
    "plt.ylabel('Time (seconds)')\n",
    "plt.ylim([0,0.2])\n",
    "plt.title('Benchmarking Sorting Algorithms')\n",
    "plt.legend()\n",
    "plt.grid(True)\n",
    "plt.show()\n"
   ]
  },
  {
   "cell_type": "code",
   "execution_count": 5,
   "id": "6345a7cd",
   "metadata": {},
   "outputs": [],
   "source": [
    "import numpy as np\n",
    "import numpy.testing as npt\n",
    "\n",
    "class Test_Sorting_Methods(unittest.TestCase):\n",
    "\n",
    "    def test1(self):\n",
    "        testarray = [random.randint(1, 1000) for _ in range(1000)]\n",
    "        sorted_test = sorted(testarray)\n",
    "        npt.assert_array_equal(det_qs(testarray), sorted(testarray), \"arrays are not equal\")\n",
    "\n",
    "    def test2(self):\n",
    "        testarray2 = [random.randint(1, 1000) for _ in range(1000)]\n",
    "        sorted_test = sorted(testarray2)\n",
    "        npt.assert_array_equal(random_qs(testarray2), sorted(testarray2), \"arrays are not equal\")\n",
    "\n",
    "    def test3(self):\n",
    "        testarray3 = [random.randint(1, 1000) for _ in range(1000)]\n",
    "        sorted_test = sorted(testarray3)\n",
    "        npt.assert_array_equal(merge_sort(testarray3), sorted(testarray3), \"arrays are not equal\")\n",
    " \n",
    "for x in range(10):\n",
    "    Test_Sorting_Methods.test1(unittest.TestCase)\n",
    "    Test_Sorting_Methods.test2(unittest.TestCase)\n",
    "    Test_Sorting_Methods.test3(unittest.TestCase)"
   ]
  },
  {
   "cell_type": "code",
   "execution_count": null,
   "id": "235288af",
   "metadata": {},
   "outputs": [],
   "source": []
  }
 ],
 "metadata": {
  "kernelspec": {
   "display_name": "Python 3",
   "language": "python",
   "name": "python3"
  },
  "language_info": {
   "codemirror_mode": {
    "name": "ipython",
    "version": 3
   },
   "file_extension": ".py",
   "mimetype": "text/x-python",
   "name": "python",
   "nbconvert_exporter": "python",
   "pygments_lexer": "ipython3",
   "version": "3.8.8"
  }
 },
 "nbformat": 4,
 "nbformat_minor": 5
}
